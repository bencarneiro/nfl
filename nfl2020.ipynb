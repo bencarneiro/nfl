{
 "cells": [
  {
   "cell_type": "markdown",
   "id": "dedicated-penalty",
   "metadata": {},
   "source": [
    "# Can You Make Money Betting on Nate Silver's Data?\n",
    "\n",
    "## A Brief Experiment in Value-Betting the Moneyline - Ben Carneiro"
   ]
  },
  {
   "cell_type": "markdown",
   "id": "expected-engine",
   "metadata": {},
   "source": [
    "\n",
    "\n",
    "#### Hypothesis: It's possible to bet with an aggregate statistical edge on NFL MoneyLines using 538 Data"
   ]
  },
  {
   "cell_type": "markdown",
   "id": "protecting-mining",
   "metadata": {},
   "source": [
    "Given the nature of a sportsbook- the bets on each side of an outcome must cancel each other out, to limit the sportsbook's exposure to risk."
   ]
  },
  {
   "cell_type": "code",
   "execution_count": null,
   "id": "endangered-quarterly",
   "metadata": {},
   "outputs": [],
   "source": []
  },
  {
   "cell_type": "markdown",
   "id": "discrete-least",
   "metadata": {},
   "source": [
    "A balanced sportsbook should sometimes contain \"Good Odds\" that will pay more often than the necessary win frequency to break even. \n",
    "\n",
    "My gut says that without such inefficiencies, the book would be unable to balance. Their existence being certain, however, says nothing to my ability in finding such inefficiencies. \n",
    "\n",
    "I'm hoping that good odds can be identified with little more than readily-available, public data- in this instance, Nate Silver's 538"
   ]
  },
  {
   "cell_type": "markdown",
   "id": "gentle-paraguay",
   "metadata": {},
   "source": [
    "### Data Downloads\n",
    "<a href = \"https://projects.fivethirtyeight.com/nfl-api/nfl_elo.csv\" target=\"_blank\"> 538 Data</a>    \n",
    "<a href = \"https://www.sportsbookreviewsonline.com/scoresoddsarchives/nfl/nfl%20odds%202020-21.xlsx\" target=\"_blank\"> Odds Data</a>"
   ]
  },
  {
   "cell_type": "code",
   "execution_count": 1,
   "id": "identified-familiar",
   "metadata": {},
   "outputs": [],
   "source": [
    "##  Import libraries and data\n",
    "\n",
    "import pandas as pd, numpy as np\n",
    "nate_silver = pd.read_csv(r'C:\\Users\\benca\\Downloads\\nfl-elo\\nfl-elo\\nfl_elo.csv')\n",
    "odds2020 = pd.read_excel(r'C:\\Users\\benca\\Downloads\\nfl odds 2020-21 (1).xlsx')"
   ]
  },
  {
   "cell_type": "markdown",
   "id": "loose-spanish",
   "metadata": {},
   "source": [
    "## Create Sports-Betting Functions\n",
    "\n",
    "#### Implied Odds\n",
    "imp(moneyline_odds) - Returns required win-frequency to break even\n",
    "\n",
    "#### To Decimal Odds\n",
    "to_dec(moneyline_odds) - Returns decimal odds from moneyline odds (+200 = 3.0)\n",
    "\n",
    "#### Expected Value\n",
    "ev(ML,model,betsize) - Expected Value (EV) is your average expected return per dollar of risk, over an infinite number of bets\n",
    "\n",
    "GIVEN that: 'model' (probability where 0<X<1) is perfectly accurate\n",
    "\n",
    "#### Actual Value\n",
    "av(dec,win) - Actual Return per dollar of risk on a specific bet or group of bets"
   ]
  },
  {
   "cell_type": "code",
   "execution_count": 2,
   "id": "continuing-sleeve",
   "metadata": {},
   "outputs": [],
   "source": [
    "## Calculates implied odds of a given moneyline\n",
    "## What I call implied odds- appears to not be what most gamblers call implied odds-\n",
    "## This function returns the frequency with which you must win a bet in order to break even\n",
    "\n",
    "def imp(mline):\n",
    "    global implied\n",
    "    if mline > 0:\n",
    "        implied = 100/(mline + 100)\n",
    "    if mline < 0:\n",
    "        implied = abs(mline)/(100 + abs(mline))\n",
    "    return implied \n",
    "\n",
    "## Calculates Decimal Odds from Moneyline\n",
    "## imp(z) = 1/to_dec(z)\n",
    "\n",
    "def to_dec(mline):\n",
    "    if mline > 0:\n",
    "        return (mline/100 + 1)\n",
    "    if mline < 0:\n",
    "        return (100/abs(mline) + 1)\n",
    "    \n",
    "## Calculates Expected Value from a given moneyline, \"real\" probability, and betsize\n",
    "\n",
    "def ev(mline, model, betsize=1):\n",
    "    global implied\n",
    "    if mline > 0:\n",
    "        implied = 100/(mline + 100)\n",
    "    if mline < 0:\n",
    "        implied = abs(mline)/(100 + abs(mline))\n",
    "    return (model * betsize * ((1/implied) - 1)) + ((model-1) * betsize)\n",
    "\n",
    "## Calculates actual return from Decimal Odds and Result of Game\n",
    "\n",
    "def av(dec, result):\n",
    "    global send\n",
    "    if result == 'W':\n",
    "        send = dec-1\n",
    "    if result == 'L':\n",
    "        send = -1\n",
    "    else: send = 0\n",
    "    return send"
   ]
  },
  {
   "cell_type": "markdown",
   "id": "public-remains",
   "metadata": {},
   "source": [
    "## Cleaning and combining data"
   ]
  },
  {
   "cell_type": "code",
   "execution_count": 3,
   "id": "heard-yukon",
   "metadata": {
    "collapsed": true
   },
   "outputs": [
    {
     "name": "stderr",
     "output_type": "stream",
     "text": [
      "<ipython-input-3-64987fe040ce>:18: SettingWithCopyWarning: \n",
      "A value is trying to be set on a copy of a slice from a DataFrame\n",
      "\n",
      "See the caveats in the documentation: https://pandas.pydata.org/pandas-docs/stable/user_guide/indexing.html#returning-a-view-versus-a-copy\n",
      "  odds['new_date'][n] = '2020-0' + str(odds['Date'][n])[0] + \"-\" + str(odds['Date'][n])[1:3]\n",
      "<ipython-input-3-64987fe040ce>:20: SettingWithCopyWarning: \n",
      "A value is trying to be set on a copy of a slice from a DataFrame\n",
      "\n",
      "See the caveats in the documentation: https://pandas.pydata.org/pandas-docs/stable/user_guide/indexing.html#returning-a-view-versus-a-copy\n",
      "  odds['new_date'][n] = '2020-' + str(odds['Date'][n])[0:2] + \"-\" + str(odds['Date'][n])[2:4]\n",
      "<ipython-input-3-64987fe040ce>:16: SettingWithCopyWarning: \n",
      "A value is trying to be set on a copy of a slice from a DataFrame\n",
      "\n",
      "See the caveats in the documentation: https://pandas.pydata.org/pandas-docs/stable/user_guide/indexing.html#returning-a-view-versus-a-copy\n",
      "  odds['new_date'][n] = '2021-0' + str(odds['Date'][n])[0] + \"-\" + str(odds['Date'][n])[1:3]\n"
     ]
    }
   ],
   "source": [
    "## Drop non-2020 data from 538 dataset\n",
    "\n",
    "model2020 = nate_silver[nate_silver['season'] == 2020].reset_index(drop=True)\n",
    "\n",
    "## Assign a unique ID to each game of the 2020 Season\n",
    "\n",
    "model2020['id'] = model2020.index + 1\n",
    "\n",
    "## Conform the date in the \"Odds\" data to the format found in the 538 Data\n",
    "\n",
    "odds=odds2020\n",
    "odds['new_date'] = \"\"\n",
    "\n",
    "for n in odds.index:\n",
    "    if odds['Date'][n] < 500:\n",
    "        odds['new_date'][n] = '2021-0' + str(odds['Date'][n])[0] + \"-\" + str(odds['Date'][n])[1:3]\n",
    "    elif odds['Date'][n] < 1000:\n",
    "        odds['new_date'][n] = '2020-0' + str(odds['Date'][n])[0] + \"-\" + str(odds['Date'][n])[1:3]\n",
    "    else:\n",
    "        odds['new_date'][n] = '2020-' + str(odds['Date'][n])[0:2] + \"-\" + str(odds['Date'][n])[2:4]\n",
    "\n",
    "## Conform the Names in the \"Odds\" data to the format found in the 538 Data\n",
    "        \n",
    "teamNames = {'Houston':'HOU', 'KansasCity':'KC', 'Miami':'MIA', 'NewEngland':'NE', 'Cleveland':'CLE',\n",
    "       'Baltimore':'BAL', 'NYJets':'NYJ', 'Buffalo':'BUF', 'LasVegas':'OAK', 'Carolina':'CAR',\n",
    "       'Seattle':'SEA', 'Atlanta':'ATL', 'Philadelphia':'PHI', 'Washington':'WSH', 'Chicago':'CHI',\n",
    "       'Detroit':'DET', 'Indianapolis':'IND', 'Jacksonville':'JAX', 'GreenBay':'GB', 'Minnesota':'MIN',\n",
    "       'LAChargers':'LAC', 'Cincinnati':'CIN', 'Arizona':'ARI', 'SanFrancisco':'SF', 'TampaBay':'TB',\n",
    "       'NewOrleans':'NO', 'Dallas':'DAL', 'LARams':'LAR', 'Pittsburgh':'PIT', 'NYGiants':'NYG',\n",
    "       'Tennessee':'TEN', 'Denver':'DEN', 'LVRaiders':'OAK', 'KCChiefs':'KC', 'Kansas':'KC', 'Tampa':'TB',\n",
    "       'Washingtom':'WSH'}\n",
    "\n",
    "odds = odds2020.replace(to_replace = teamNames)"
   ]
  },
  {
   "cell_type": "code",
   "execution_count": 4,
   "id": "fuzzy-forum",
   "metadata": {
    "collapsed": true
   },
   "outputs": [
    {
     "name": "stderr",
     "output_type": "stream",
     "text": [
      "<ipython-input-4-84d3598e23d3>:9: SettingWithCopyWarning: \n",
      "A value is trying to be set on a copy of a slice from a DataFrame\n",
      "\n",
      "See the caveats in the documentation: https://pandas.pydata.org/pandas-docs/stable/user_guide/indexing.html#returning-a-view-versus-a-copy\n",
      "  odds['id'][x] = n + 1\n"
     ]
    }
   ],
   "source": [
    "## Using the new matching dates and names\n",
    "## Assign the unique game ID from the 538 data to the odds data\n",
    "\n",
    "odds['id'] = 0\n",
    "for n in model2020.index:\n",
    "    temp = odds[odds['new_date'] == model2020['date'][n]]\n",
    "    temp = temp[(temp['Team'] == model2020['team1'][n]) | (temp['Team'] == model2020['team2'][n])]\n",
    "    for x in temp.index:\n",
    "        odds['id'][x] = n + 1"
   ]
  },
  {
   "cell_type": "code",
   "execution_count": 5,
   "id": "concerned-lyric",
   "metadata": {},
   "outputs": [],
   "source": [
    "## Actually combining the 2 dataframes\n",
    "\n",
    "temp = model2020[['date', 'team1','elo_prob1','qbelo_prob1','id']]\n",
    "temp2 = model2020[['date', 'team2','elo_prob2','qbelo_prob2','id']]\n",
    "model = temp.rename(columns={\"team1\": \"team\", \"elo_prob1\": \"elo\", \"qbelo_prob1\":\"qb\"}).append(temp2.rename(columns={\"team2\": \"team\", \"elo_prob2\": \"elo\", \"qbelo_prob2\":\"qb\"}))\n",
    "model = model.sort_values(by = ['id','team'])\n",
    "model = model.reset_index(drop=True)\n",
    "odds = odds.sort_values(by = ['id','Team'])\n",
    "odds = odds.reset_index(drop=True)\n",
    "nfl2020 = pd.concat([model,odds], axis=1)\n",
    "\n",
    "## deleting the duplicate ID column\n",
    "nfl2020 = nfl2020.loc[:,~nfl2020.columns.duplicated()]"
   ]
  },
  {
   "cell_type": "markdown",
   "id": "naval-effect",
   "metadata": {},
   "source": [
    "## Calculations on combined data"
   ]
  },
  {
   "cell_type": "code",
   "execution_count": 6,
   "id": "attached-richardson",
   "metadata": {},
   "outputs": [],
   "source": [
    "## Creating Decimal Odds from MoneyLine\n",
    "nfl2020['dec'] = nfl2020['ML'].apply(to_dec, convert_dtype=True)\n",
    "\n",
    "## Creating Expected Value from the QB ELO probabilities\n",
    "nfl2020['ev'] = np.vectorize(ev)(nfl2020['ML'], nfl2020['qb'])\n",
    "\n",
    "## Creating Expected Value from the Regular ELO probabilities\n",
    "nfl2020['ev2'] = np.vectorize(ev)(nfl2020['ML'], nfl2020['elo'])"
   ]
  },
  {
   "cell_type": "code",
   "execution_count": 7,
   "id": "artificial-hopkins",
   "metadata": {
    "collapsed": true
   },
   "outputs": [
    {
     "name": "stderr",
     "output_type": "stream",
     "text": [
      "<ipython-input-7-bbc1b5010b38>:10: SettingWithCopyWarning: \n",
      "A value is trying to be set on a copy of a slice from a DataFrame\n",
      "\n",
      "See the caveats in the documentation: https://pandas.pydata.org/pandas-docs/stable/user_guide/indexing.html#returning-a-view-versus-a-copy\n",
      "  else: nfl2020['win'][z] = 'L'\n",
      "<ipython-input-7-bbc1b5010b38>:13: SettingWithCopyWarning: \n",
      "A value is trying to be set on a copy of a slice from a DataFrame\n",
      "\n",
      "See the caveats in the documentation: https://pandas.pydata.org/pandas-docs/stable/user_guide/indexing.html#returning-a-view-versus-a-copy\n",
      "  nfl2020['win'][z] = 'W'\n",
      "<ipython-input-7-bbc1b5010b38>:7: SettingWithCopyWarning: \n",
      "A value is trying to be set on a copy of a slice from a DataFrame\n",
      "\n",
      "See the caveats in the documentation: https://pandas.pydata.org/pandas-docs/stable/user_guide/indexing.html#returning-a-view-versus-a-copy\n",
      "  nfl2020['win'][z] = 'W'\n",
      "<ipython-input-7-bbc1b5010b38>:16: SettingWithCopyWarning: \n",
      "A value is trying to be set on a copy of a slice from a DataFrame\n",
      "\n",
      "See the caveats in the documentation: https://pandas.pydata.org/pandas-docs/stable/user_guide/indexing.html#returning-a-view-versus-a-copy\n",
      "  else: nfl2020['win'][z] = 'L'\n",
      "<ipython-input-7-bbc1b5010b38>:9: SettingWithCopyWarning: \n",
      "A value is trying to be set on a copy of a slice from a DataFrame\n",
      "\n",
      "See the caveats in the documentation: https://pandas.pydata.org/pandas-docs/stable/user_guide/indexing.html#returning-a-view-versus-a-copy\n",
      "  nfl2020['win'][z] = 'T'\n",
      "<ipython-input-7-bbc1b5010b38>:15: SettingWithCopyWarning: \n",
      "A value is trying to be set on a copy of a slice from a DataFrame\n",
      "\n",
      "See the caveats in the documentation: https://pandas.pydata.org/pandas-docs/stable/user_guide/indexing.html#returning-a-view-versus-a-copy\n",
      "  nfl2020['win'][z] = 'T'\n"
     ]
    }
   ],
   "source": [
    "## Assigning \"W\",\"L\", or \"T\" to a column called ['win']\n",
    "\n",
    "nfl2020['win'] = ''\n",
    "for z in nfl2020.index:\n",
    "    if (nfl2020.index[z] % 2 == 0):\n",
    "        if (nfl2020['Final'][z] > nfl2020['Final'][(z+1)]):\n",
    "            nfl2020['win'][z] = 'W'\n",
    "        elif (nfl2020['Final'][z] == nfl2020['Final'][(z+1)]):\n",
    "            nfl2020['win'][z] = 'T'\n",
    "        else: nfl2020['win'][z] = 'L'\n",
    "    else: \n",
    "        if (nfl2020['Final'][z] > nfl2020['Final'][(z-1)]):\n",
    "            nfl2020['win'][z] = 'W'\n",
    "        elif (nfl2020['Final'][z] == nfl2020['Final'][(z-1)]):\n",
    "            nfl2020['win'][z] = 'T'\n",
    "        else: nfl2020['win'][z] = 'L'"
   ]
  },
  {
   "cell_type": "code",
   "execution_count": 8,
   "id": "defined-measurement",
   "metadata": {},
   "outputs": [],
   "source": [
    "## Calculating ACTUAL VALUE / ACTUAL RETURN\n",
    "## From decimal odds and game results\n",
    "av = pd.DataFrame(data=[],columns=['av'])\n",
    "\n",
    "for z in nfl2020.index:\n",
    "    if (nfl2020['win'][z] == 'W'):\n",
    "        temp = pd.DataFrame(data=[[nfl2020['dec'][z] - 1.0]],columns=['av'])\n",
    "        av = pd.concat([av,temp], ignore_index=True)\n",
    "    elif (nfl2020['win'][z] == 'L'):\n",
    "        temp = pd.DataFrame(data=[[-1]],columns=['av'])\n",
    "        av = pd.concat([av,temp], ignore_index=True)\n",
    "    else: \n",
    "        temp = pd.DataFrame(data=[[0]],columns=['av'])\n",
    "        av = pd.concat([av,temp], ignore_index=True)\n",
    "nfl2020 = pd.concat([nfl2020,av], axis=1)"
   ]
  },
  {
   "cell_type": "markdown",
   "id": "corresponding-china",
   "metadata": {},
   "source": [
    "## Testing different strategies on the 2020 NFL Season"
   ]
  },
  {
   "cell_type": "code",
   "execution_count": 23,
   "id": "bronze-admission",
   "metadata": {
    "scrolled": true
   },
   "outputs": [],
   "source": [
    "models = pd.DataFrame()\n",
    "\n",
    "bank_all = 100.0\n",
    "bet_size_all = 1.0\n",
    "bets_taken_all = 0\n",
    "df_all = pd.DataFrame(data=[],columns=['date','bank_all','bets_all'])\n",
    "\n",
    "bank_dog = 100.0\n",
    "bet_size_dog = 1.0\n",
    "bets_taken_dog = 0\n",
    "df_dog = pd.DataFrame(data=[],columns=['bank_dog','bets_dog'])\n",
    "\n",
    "bank_fav = 100.0\n",
    "bet_size_fav = 1.0\n",
    "bets_taken_fav = 0\n",
    "df_fav = pd.DataFrame(data=[],columns=['bank_fav','bets_fav'])\n",
    "\n",
    "bank_evplus = 100.0\n",
    "bet_size_evplus = 1.0\n",
    "bets_taken_evplus = 0\n",
    "df_evplus = pd.DataFrame(data=[],columns=['bank_evplus','bets_evplus'])\n",
    "\n",
    "bank_evminus = 100.0\n",
    "bet_size_evminus = 1.0\n",
    "bets_taken_evminus = 0\n",
    "df_evminus = pd.DataFrame(data=[],columns=['bank_evminus','bets_evminus'])\n",
    "\n",
    "bank_ev5plus = 100.0\n",
    "bet_size_ev5plus = 1.0\n",
    "bets_taken_ev5plus = 0\n",
    "df_ev5plus = pd.DataFrame(data=[],columns=['bank_ev5plus','bets_ev5plus'])\n",
    "\n",
    "bank_ev10plus = 100.0\n",
    "bet_size_ev10plus = 1.0\n",
    "bets_taken_ev10plus = 0\n",
    "df_ev10plus = pd.DataFrame(data=[],columns=['bank_ev10plus','bets_ev10plus'])\n",
    "\n",
    "bank_model1 = 100.0\n",
    "bet_size_model1 = 1.0\n",
    "bets_taken_model1 = 0\n",
    "df_model1 = pd.DataFrame(data=[],columns=['bank_model1','bets_model1'])\n",
    "\n",
    "bank_model2 = 100.0\n",
    "bet_size_model2 = 1.0\n",
    "bets_taken_model2 = 0\n",
    "df_model2 = pd.DataFrame(data=[],columns=['bank_model2','bets_model2'])\n",
    "\n",
    "for z in nfl2020.index:\n",
    "    \n",
    "    bet_size_all=bank_all/100\n",
    "    bets_taken_all +=1\n",
    "    bank_all += bet_size_all * nfl2020['av'][z]\n",
    "    temp = pd.DataFrame(data=[[nfl2020['new_date'][z], bank_all, bets_taken_all]], columns=['date','bank_all','bets_all'])\n",
    "    df_all = pd.concat([df_all,temp],ignore_index=True)\n",
    "    \n",
    "    if nfl2020['dec'][z] > 2:\n",
    "        bet_size_dog=bank_dog/100\n",
    "        bets_taken_dog +=1\n",
    "        bank_dog += bet_size_dog * nfl2020['av'][z]\n",
    "    temp = pd.DataFrame(data=[[bank_dog, bets_taken_dog]], columns=['bank_dog','bets_dog'])\n",
    "    df_dog = pd.concat([df_dog,temp],ignore_index=True)\n",
    "    \n",
    "    if nfl2020['dec'][z] < 2:\n",
    "        bet_size_fav=bank_fav/100\n",
    "        bets_taken_fav +=1\n",
    "        bank_fav += bet_size_fav * nfl2020['av'][z]\n",
    "    temp = pd.DataFrame(data=[[bank_fav, bets_taken_fav]], columns=['bank_fav','bets_fav'])\n",
    "    df_fav = pd.concat([df_fav,temp],ignore_index=True) \n",
    "    \n",
    "    if nfl2020['ev'][z] > 0:\n",
    "        bet_size_evplus=bank_evplus/100\n",
    "        bets_taken_evplus +=1\n",
    "        bank_evplus += bet_size_evplus * nfl2020['av'][z]\n",
    "    temp = pd.DataFrame(data=[[bank_evplus, bets_taken_evplus]], columns=['bank_evplus','bets_evplus'])\n",
    "    df_evplus = pd.concat([df_evplus,temp],ignore_index=True)\n",
    "    \n",
    "    if nfl2020['ev'][z] < 0:\n",
    "        bet_size_evminus=bank_evminus/100\n",
    "        bets_taken_evminus +=1\n",
    "        bank_evminus += bet_size_evminus * nfl2020['av'][z]\n",
    "    temp = pd.DataFrame(data=[[bank_evminus, bets_taken_evminus]], columns=['bank_evminus','bets_evminus'])\n",
    "    df_evminus = pd.concat([df_evminus,temp],ignore_index=True)\n",
    "    \n",
    "    if nfl2020['ev'][z] > 0.05:\n",
    "        bet_size_ev5plus=bank_ev5plus/100\n",
    "        bets_taken_ev5plus +=1\n",
    "        bank_ev5plus += bet_size_ev5plus * nfl2020['av'][z]\n",
    "    temp = pd.DataFrame(data=[[bank_ev5plus, bets_taken_ev5plus]], columns=['bank_ev5plus','bets_ev5plus'])\n",
    "    df_ev5plus = pd.concat([df_ev5plus,temp],ignore_index=True)\n",
    "    \n",
    "    if nfl2020['ev'][z] > 0.1:\n",
    "        bet_size_ev10plus=bank_ev10plus/100\n",
    "        bets_taken_ev10plus +=1\n",
    "        bank_ev10plus += bet_size_ev10plus * nfl2020['av'][z]\n",
    "    temp = pd.DataFrame(data=[[bank_ev10plus, bets_taken_ev10plus]], columns=['bank_ev10plus','bets_ev10plus'])\n",
    "    df_ev10plus = pd.concat([df_ev10plus,temp],ignore_index=True)\n",
    "    \n",
    "    if (nfl2020['ev'][z] > -0.1) & (nfl2020['ev'][z] < 0.5) & (nfl2020['qb'][z] > nfl2020['elo'][z]):\n",
    "        bet_size_model1=bank_model1/100\n",
    "        bets_taken_model1 +=1\n",
    "        bank_model1 += bet_size_model1 * nfl2020['av'][z]\n",
    "    temp = pd.DataFrame(data=[[bank_model1, bets_taken_model1]], columns=['bank_model1','bets_model1'])\n",
    "    df_model1 = pd.concat([df_model1,temp],ignore_index=True)\n",
    "    \n",
    "    if (nfl2020['ev'][z] > 0.05) & (nfl2020['ev'][z] < 0.3) :\n",
    "        bet_size_model2=bank_model2/100\n",
    "        bets_taken_model2 +=1\n",
    "        bank_model2 += bet_size_model2 * nfl2020['av'][z]\n",
    "    temp = pd.DataFrame(data=[[bank_model2, bets_taken_model2]], columns=['bank_model2','bets_model2'])\n",
    "    df_model2 = pd.concat([df_model2,temp],ignore_index=True)    \n",
    "    \n",
    "models=pd.concat([df_all,df_dog,df_fav,df_evplus,df_evminus,df_ev5plus,df_ev10plus,df_model1,df_model2],axis=1)\n",
    "\n",
    "models_agg = pd.DataFrame()\n",
    "\n",
    "bank_all = 100.0\n",
    "bet_size_all = 1.0\n",
    "bets_taken_all = 0\n",
    "df_all = pd.DataFrame(data=[],columns=['date','bank_all','bets_all'])\n",
    "\n",
    "bank_dog = 100.0\n",
    "bet_size_dog = 1.0\n",
    "bets_taken_dog = 0\n",
    "df_dog = pd.DataFrame(data=[],columns=['bank_dog','bets_dog'])\n",
    "\n",
    "bank_fav = 100.0\n",
    "bet_size_fav = 1.0\n",
    "bets_taken_fav = 0\n",
    "df_fav = pd.DataFrame(data=[],columns=['bank_fav','bets_fav'])\n",
    "\n",
    "bank_evplus = 100.0\n",
    "bet_size_evplus = 1.0\n",
    "bets_taken_evplus = 0\n",
    "df_evplus = pd.DataFrame(data=[],columns=['bank_evplus','bets_evplus'])\n",
    "\n",
    "bank_evminus = 100.0\n",
    "bet_size_evminus = 1.0\n",
    "bets_taken_evminus = 0\n",
    "df_evminus = pd.DataFrame(data=[],columns=['bank_evminus','bets_evminus'])\n",
    "\n",
    "bank_ev5plus = 100.0\n",
    "bet_size_ev5plus = 1.0\n",
    "bets_taken_ev5plus = 0\n",
    "df_ev5plus = pd.DataFrame(data=[],columns=['bank_ev5plus','bets_ev5plus'])\n",
    "\n",
    "bank_ev10plus = 100.0\n",
    "bet_size_ev10plus = 1.0\n",
    "bets_taken_ev10plus = 0\n",
    "df_ev10plus = pd.DataFrame(data=[],columns=['bank_ev10plus','bets_ev10plus'])\n",
    "\n",
    "bank_model1 = 100.0\n",
    "bet_size_model1 = 1.0\n",
    "bets_taken_model1 = 0\n",
    "df_model1 = pd.DataFrame(data=[],columns=['bank_model1','bets_model1'])\n",
    "\n",
    "bank_model2 = 100.0\n",
    "bet_size_model2 = 1.0\n",
    "bets_taken_model2 = 0\n",
    "df_model2 = pd.DataFrame(data=[],columns=['bank_model2','bets_model2'])\n",
    "\n",
    "for z in nfl2020.index:\n",
    "    \n",
    "    bet_size_all=bank_all/50\n",
    "    bets_taken_all +=1\n",
    "    bank_all += bet_size_all * nfl2020['av'][z]\n",
    "    temp = pd.DataFrame(data=[[nfl2020['new_date'][z], bank_all, bets_taken_all]], columns=['date','bank_all','bets_all'])\n",
    "    df_all = pd.concat([df_all,temp],ignore_index=True)\n",
    "    \n",
    "    if nfl2020['dec'][z] > 2:\n",
    "        bet_size_dog=bank_dog/50\n",
    "        bets_taken_dog +=1\n",
    "        bank_dog += bet_size_dog * nfl2020['av'][z]\n",
    "    temp = pd.DataFrame(data=[[bank_dog, bets_taken_dog]], columns=['bank_dog','bets_dog'])\n",
    "    df_dog = pd.concat([df_dog,temp],ignore_index=True)\n",
    "    \n",
    "    if nfl2020['dec'][z] < 2:\n",
    "        bet_size_fav=bank_fav/50\n",
    "        bets_taken_fav +=1\n",
    "        bank_fav += bet_size_fav * nfl2020['av'][z]\n",
    "    temp = pd.DataFrame(data=[[bank_fav, bets_taken_fav]], columns=['bank_fav','bets_fav'])\n",
    "    df_fav = pd.concat([df_fav,temp],ignore_index=True) \n",
    "    \n",
    "    if nfl2020['ev'][z] > 0:\n",
    "        bet_size_evplus=bank_evplus/50\n",
    "        bets_taken_evplus +=1\n",
    "        bank_evplus += bet_size_evplus * nfl2020['av'][z]\n",
    "    temp = pd.DataFrame(data=[[bank_evplus, bets_taken_evplus]], columns=['bank_evplus','bets_evplus'])\n",
    "    df_evplus = pd.concat([df_evplus,temp],ignore_index=True)\n",
    "    \n",
    "    if nfl2020['ev'][z] < 0:\n",
    "        bet_size_evminus=bank_evminus/50\n",
    "        bets_taken_evminus +=1\n",
    "        bank_evminus += bet_size_evminus * nfl2020['av'][z]\n",
    "    temp = pd.DataFrame(data=[[bank_evminus, bets_taken_evminus]], columns=['bank_evminus','bets_evminus'])\n",
    "    df_evminus = pd.concat([df_evminus,temp],ignore_index=True)\n",
    "    \n",
    "    if nfl2020['ev'][z] > 0.05:\n",
    "        bet_size_ev5plus=bank_ev5plus/50\n",
    "        bets_taken_ev5plus +=1\n",
    "        bank_ev5plus += bet_size_ev5plus * nfl2020['av'][z]\n",
    "    temp = pd.DataFrame(data=[[bank_ev5plus, bets_taken_ev5plus]], columns=['bank_ev5plus','bets_ev5plus'])\n",
    "    df_ev5plus = pd.concat([df_ev5plus,temp],ignore_index=True)\n",
    "    \n",
    "    if nfl2020['ev'][z] > 0.1:\n",
    "        bet_size_ev10plus=bank_ev10plus/50\n",
    "        bets_taken_ev10plus +=1\n",
    "        bank_ev10plus += bet_size_ev10plus * nfl2020['av'][z]\n",
    "    temp = pd.DataFrame(data=[[bank_ev10plus, bets_taken_ev10plus]], columns=['bank_ev10plus','bets_ev10plus'])\n",
    "    df_ev10plus = pd.concat([df_ev10plus,temp],ignore_index=True)\n",
    "    \n",
    "    if (nfl2020['ev'][z] > -0.1) & (nfl2020['ev'][z] < 0.5) & (nfl2020['qb'][z] > nfl2020['elo'][z]):\n",
    "        bet_size_model1=bank_model1/50\n",
    "        bets_taken_model1 +=1\n",
    "        bank_model1 += bet_size_model1 * nfl2020['av'][z]\n",
    "    temp = pd.DataFrame(data=[[bank_model1, bets_taken_model1]], columns=['bank_model1','bets_model1'])\n",
    "    df_model1 = pd.concat([df_model1,temp],ignore_index=True)\n",
    "    \n",
    "    if (nfl2020['ev'][z] > 0.05) & (nfl2020['ev'][z] < 0.3) :\n",
    "        bet_size_model2=bank_model2/50\n",
    "        bets_taken_model2 +=1\n",
    "        bank_model2 += bet_size_model2 * nfl2020['av'][z]\n",
    "    temp = pd.DataFrame(data=[[bank_model2, bets_taken_model2]], columns=['bank_model2','bets_model2'])\n",
    "    df_model2 = pd.concat([df_model2,temp],ignore_index=True)    \n",
    "    \n",
    "models_agg=pd.concat([df_all,df_dog,df_fav,df_evplus,df_evminus,df_ev5plus,df_ev10plus,df_model1,df_model2],axis=1)\n",
    "\n",
    "models_super_agg = pd.DataFrame()\n",
    "\n",
    "bank_all = 100.0\n",
    "bet_size_all = 1.0\n",
    "bets_taken_all = 0\n",
    "df_all = pd.DataFrame(data=[],columns=['date','bank_all','bets_all'])\n",
    "\n",
    "bank_dog = 100.0\n",
    "bet_size_dog = 1.0\n",
    "bets_taken_dog = 0\n",
    "df_dog = pd.DataFrame(data=[],columns=['bank_dog','bets_dog'])\n",
    "\n",
    "bank_fav = 100.0\n",
    "bet_size_fav = 1.0\n",
    "bets_taken_fav = 0\n",
    "df_fav = pd.DataFrame(data=[],columns=['bank_fav','bets_fav'])\n",
    "\n",
    "bank_evplus = 100.0\n",
    "bet_size_evplus = 1.0\n",
    "bets_taken_evplus = 0\n",
    "df_evplus = pd.DataFrame(data=[],columns=['bank_evplus','bets_evplus'])\n",
    "\n",
    "bank_evminus = 100.0\n",
    "bet_size_evminus = 1.0\n",
    "bets_taken_evminus = 0\n",
    "df_evminus = pd.DataFrame(data=[],columns=['bank_evminus','bets_evminus'])\n",
    "\n",
    "bank_ev5plus = 100.0\n",
    "bet_size_ev5plus = 1.0\n",
    "bets_taken_ev5plus = 0\n",
    "df_ev5plus = pd.DataFrame(data=[],columns=['bank_ev5plus','bets_ev5plus'])\n",
    "\n",
    "bank_ev10plus = 100.0\n",
    "bet_size_ev10plus = 1.0\n",
    "bets_taken_ev10plus = 0\n",
    "df_ev10plus = pd.DataFrame(data=[],columns=['bank_ev10plus','bets_ev10plus'])\n",
    "\n",
    "bank_model1 = 100.0\n",
    "bet_size_model1 = 1.0\n",
    "bets_taken_model1 = 0\n",
    "df_model1 = pd.DataFrame(data=[],columns=['bank_model1','bets_model1'])\n",
    "\n",
    "bank_model2 = 100.0\n",
    "bet_size_model2 = 1.0\n",
    "bets_taken_model2 = 0\n",
    "df_model2 = pd.DataFrame(data=[],columns=['bank_model2','bets_model2'])\n",
    "\n",
    "for z in nfl2020.index:\n",
    "    \n",
    "    bet_size_all=bank_all/20\n",
    "    bets_taken_all +=1\n",
    "    bank_all += bet_size_all * nfl2020['av'][z]\n",
    "    temp = pd.DataFrame(data=[[nfl2020['new_date'][z], bank_all, bets_taken_all]], columns=['date','bank_all','bets_all'])\n",
    "    df_all = pd.concat([df_all,temp],ignore_index=True)\n",
    "    \n",
    "    if nfl2020['dec'][z] > 2:\n",
    "        bet_size_dog=bank_dog/20\n",
    "        bets_taken_dog +=1\n",
    "        bank_dog += bet_size_dog * nfl2020['av'][z]\n",
    "    temp = pd.DataFrame(data=[[bank_dog, bets_taken_dog]], columns=['bank_dog','bets_dog'])\n",
    "    df_dog = pd.concat([df_dog,temp],ignore_index=True)\n",
    "    \n",
    "    if nfl2020['dec'][z] < 2:\n",
    "        bet_size_fav=bank_fav/20\n",
    "        bets_taken_fav +=1\n",
    "        bank_fav += bet_size_fav * nfl2020['av'][z]\n",
    "    temp = pd.DataFrame(data=[[bank_fav, bets_taken_fav]], columns=['bank_fav','bets_fav'])\n",
    "    df_fav = pd.concat([df_fav,temp],ignore_index=True) \n",
    "    \n",
    "    if nfl2020['ev'][z] > 0:\n",
    "        bet_size_evplus=bank_evplus/20\n",
    "        bets_taken_evplus +=1\n",
    "        bank_evplus += bet_size_evplus * nfl2020['av'][z]\n",
    "    temp = pd.DataFrame(data=[[bank_evplus, bets_taken_evplus]], columns=['bank_evplus','bets_evplus'])\n",
    "    df_evplus = pd.concat([df_evplus,temp],ignore_index=True)\n",
    "    \n",
    "    if nfl2020['ev'][z] < 0:\n",
    "        bet_size_evminus=bank_evminus/20\n",
    "        bets_taken_evminus +=1\n",
    "        bank_evminus += bet_size_evminus * nfl2020['av'][z]\n",
    "    temp = pd.DataFrame(data=[[bank_evminus, bets_taken_evminus]], columns=['bank_evminus','bets_evminus'])\n",
    "    df_evminus = pd.concat([df_evminus,temp],ignore_index=True)\n",
    "    \n",
    "    if nfl2020['ev'][z] > 0.05:\n",
    "        bet_size_ev5plus=bank_ev5plus/20\n",
    "        bets_taken_ev5plus +=1\n",
    "        bank_ev5plus += bet_size_ev5plus * nfl2020['av'][z]\n",
    "    temp = pd.DataFrame(data=[[bank_ev5plus, bets_taken_ev5plus]], columns=['bank_ev5plus','bets_ev5plus'])\n",
    "    df_ev5plus = pd.concat([df_ev5plus,temp],ignore_index=True)\n",
    "    \n",
    "    if nfl2020['ev'][z] > 0.1:\n",
    "        bet_size_ev10plus=bank_ev10plus/20\n",
    "        bets_taken_ev10plus +=1\n",
    "        bank_ev10plus += bet_size_ev10plus * nfl2020['av'][z]\n",
    "    temp = pd.DataFrame(data=[[bank_ev10plus, bets_taken_ev10plus]], columns=['bank_ev10plus','bets_ev10plus'])\n",
    "    df_ev10plus = pd.concat([df_ev10plus,temp],ignore_index=True)\n",
    "    \n",
    "    if (nfl2020['ev'][z] > -0.1) & (nfl2020['ev'][z] < 0.5) & (nfl2020['qb'][z] > nfl2020['elo'][z]):\n",
    "        bet_size_model1=bank_model1/20\n",
    "        bets_taken_model1 +=1\n",
    "        bank_model1 += bet_size_model1 * nfl2020['av'][z]\n",
    "    temp = pd.DataFrame(data=[[bank_model1, bets_taken_model1]], columns=['bank_model1','bets_model1'])\n",
    "    df_model1 = pd.concat([df_model1,temp],ignore_index=True)\n",
    "    \n",
    "    if (nfl2020['ev'][z] > 0.05) & (nfl2020['ev'][z] < 0.3) :\n",
    "        bet_size_model2=bank_model2/20\n",
    "        bets_taken_model2 +=1\n",
    "        bank_model2 += bet_size_model2 * nfl2020['av'][z]\n",
    "    temp = pd.DataFrame(data=[[bank_model2, bets_taken_model2]], columns=['bank_model2','bets_model2'])\n",
    "    df_model2 = pd.concat([df_model2,temp],ignore_index=True)    \n",
    "    \n",
    "models_super_agg=pd.concat([df_all,df_dog,df_fav,df_evplus,df_evminus,df_ev5plus,df_ev10plus,df_model1,df_model2],axis=1)"
   ]
  },
  {
   "cell_type": "code",
   "execution_count": 21,
   "id": "photographic-enemy",
   "metadata": {},
   "outputs": [],
   "source": [
    "models.to_csv('nfl2020_Bankrolls.csv')\n",
    "models_agg.to_csv('nfl2020_Bankrolls_agg.csv')\n",
    "models_super_agg.to_csv('nfl2020_Bankrolls_super_agg.csv')"
   ]
  },
  {
   "cell_type": "markdown",
   "id": "palestinian-growing",
   "metadata": {},
   "source": [
    "# What Worked in 2020?"
   ]
  },
  {
   "cell_type": "markdown",
   "id": "combined-unknown",
   "metadata": {},
   "source": [
    "## Well, not much\n",
    "\n",
    "First, we're gonna take a look at ROI with a fixed bet size- This will tell us the average return on any given bet that meets a set of parameters.\n",
    "\n",
    "We're looking at what would happen if you bet the same amount every time ($1) - to obtain an average ROI per bet AKA \"Actual Return per Dollar of Risk\")\n",
    "\n",
    "## This Tableau Dashboard shows which types of bets had a positive ROI on the year\n",
    "### Click through the Tabs below to see ROI by different categories"
   ]
  },
  {
   "cell_type": "code",
   "execution_count": 2,
   "id": "quick-surrey",
   "metadata": {},
   "outputs": [
    {
     "data": {
      "text/html": [
       "    <div class='tableauPlaceholder' id='viz1614235267491' style='position: relative'><noscript><a href='#'><img alt=' ' src='https:&#47;&#47;public.tableau.com&#47;static&#47;images&#47;RO&#47;ROINFL2020&#47;EV&#47;1_rss.png' style='border: none' /></a></noscript><object class='tableauViz'  style='display:none;'><param name='host_url' value='https%3A%2F%2Fpublic.tableau.com%2F' /> <param name='embed_code_version' value='3' /> <param name='site_root' value='' /><param name='name' value='ROINFL2020&#47;EV' /><param name='tabs' value='no' /><param name='toolbar' value='yes' /><param name='static_image' value='https:&#47;&#47;public.tableau.com&#47;static&#47;images&#47;RO&#47;ROINFL2020&#47;EV&#47;1.png' /> <param name='animate_transition' value='yes' /><param name='display_static_image' value='yes' /><param name='display_spinner' value='yes' /><param name='display_overlay' value='yes' /><param name='display_count' value='yes' /><param name='language' value='en' /><param name='filter' value='publish=yes' /></object></div>                <script type='text/javascript'>                    var divElement = document.getElementById('viz1614235267491');                    var vizElement = divElement.getElementsByTagName('object')[0];                    vizElement.style.width='1000px';vizElement.style.height='727px';                    var scriptElement = document.createElement('script');                    scriptElement.src = 'https://public.tableau.com/javascripts/api/viz_v1.js';                    vizElement.parentNode.insertBefore(scriptElement, vizElement);                </script>\n"
      ],
      "text/plain": [
       "<IPython.core.display.HTML object>"
      ]
     },
     "metadata": {},
     "output_type": "display_data"
    }
   ],
   "source": [
    "%%html\n",
    "    <div class='tableauPlaceholder' id='viz1614235267491' style='position: relative'><noscript><a href='#'><img alt=' ' src='https:&#47;&#47;public.tableau.com&#47;static&#47;images&#47;RO&#47;ROINFL2020&#47;EV&#47;1_rss.png' style='border: none' /></a></noscript><object class='tableauViz'  style='display:none;'><param name='host_url' value='https%3A%2F%2Fpublic.tableau.com%2F' /> <param name='embed_code_version' value='3' /> <param name='site_root' value='' /><param name='name' value='ROINFL2020&#47;EV' /><param name='tabs' value='no' /><param name='toolbar' value='yes' /><param name='static_image' value='https:&#47;&#47;public.tableau.com&#47;static&#47;images&#47;RO&#47;ROINFL2020&#47;EV&#47;1.png' /> <param name='animate_transition' value='yes' /><param name='display_static_image' value='yes' /><param name='display_spinner' value='yes' /><param name='display_overlay' value='yes' /><param name='display_count' value='yes' /><param name='language' value='en' /><param name='filter' value='publish=yes' /></object></div>                <script type='text/javascript'>                    var divElement = document.getElementById('viz1614235267491');                    var vizElement = divElement.getElementsByTagName('object')[0];                    vizElement.style.width='1000px';vizElement.style.height='727px';                    var scriptElement = document.createElement('script');                    scriptElement.src = 'https://public.tableau.com/javascripts/api/viz_v1.js';                    vizElement.parentNode.insertBefore(scriptElement, vizElement);                </script>"
   ]
  },
  {
   "cell_type": "markdown",
   "id": "weighted-graham",
   "metadata": {},
   "source": [
    "# Trying out Betting Strategies\n",
    "\n",
    "Now that we are acquainted with which bets had a positive ROI in 2020, let's take a look at how some betting strategies would have performed in 2020"
   ]
  },
  {
   "cell_type": "markdown",
   "id": "greater-birth",
   "metadata": {},
   "source": [
    "## Nine Strategies:\n",
    "\n",
    "    1) All Bets\n",
    "    \n",
    "    2) All Underdog Bets\n",
    "    \n",
    "    3) All Favorite Bets\n",
    "    \n",
    "    4) All EV Positive Bets (QB ELO)\n",
    "    \n",
    "    5) All EV Negative Bets (QB ELO)\n",
    "    \n",
    "    6) All EV > 5% Bets (QB ELO)\n",
    "    \n",
    "    7) All EV > 10% Bets (QB ELO)\n",
    "    \n",
    "    8) Preferred Strategy (-10% < EV < 0.5, qbelo_prob > elo_prob)\n",
    "    \n",
    "    9) Backup Strategy (5% < EV < %30)"
   ]
  },
  {
   "cell_type": "markdown",
   "id": "gentle-kitty",
   "metadata": {},
   "source": [
    "#### The Following models place all wagers with a bet size of 1% of bankroll"
   ]
  },
  {
   "cell_type": "code",
   "execution_count": 1,
   "id": "placed-mechanism",
   "metadata": {},
   "outputs": [
    {
     "data": {
      "text/html": [
       "    <div class='tableauPlaceholder' id='viz1614213176446' style='position: relative'><noscript><a href='#'><img alt=' ' src='https:&#47;&#47;public.tableau.com&#47;static&#47;images&#47;Co&#47;ConservativeBettingStrategyNFL2020&#47;cons&#47;1_rss.png' style='border: none' /></a></noscript><object class='tableauViz'  style='display:none;'><param name='host_url' value='https%3A%2F%2Fpublic.tableau.com%2F' /> <param name='embed_code_version' value='3' /> <param name='site_root' value='' /><param name='name' value='ConservativeBettingStrategyNFL2020&#47;cons' /><param name='tabs' value='no' /><param name='toolbar' value='yes' /><param name='static_image' value='https:&#47;&#47;public.tableau.com&#47;static&#47;images&#47;Co&#47;ConservativeBettingStrategyNFL2020&#47;cons&#47;1.png' /> <param name='animate_transition' value='yes' /><param name='display_static_image' value='yes' /><param name='display_spinner' value='yes' /><param name='display_overlay' value='yes' /><param name='display_count' value='yes' /><param name='language' value='en' /><param name='filter' value='publish=yes' /></object></div>                <script type='text/javascript'>                    var divElement = document.getElementById('viz1614213176446');                    var vizElement = divElement.getElementsByTagName('object')[0];                    if ( divElement.offsetWidth > 800 ) { vizElement.style.minWidth='800px';vizElement.style.maxWidth='1000px';vizElement.style.width='100%';vizElement.style.minHeight='587px';vizElement.style.maxHeight='727px';vizElement.style.height=(divElement.offsetWidth*0.75)+'px';} else if ( divElement.offsetWidth > 500 ) { vizElement.style.minWidth='800px';vizElement.style.maxWidth='1000px';vizElement.style.width='100%';vizElement.style.minHeight='587px';vizElement.style.maxHeight='727px';vizElement.style.height=(divElement.offsetWidth*0.75)+'px';} else { vizElement.style.width='100%';vizElement.style.height='727px';}                     var scriptElement = document.createElement('script');                    scriptElement.src = 'https://public.tableau.com/javascripts/api/viz_v1.js';                    vizElement.parentNode.insertBefore(scriptElement, vizElement);                </script>\n"
      ],
      "text/plain": [
       "<IPython.core.display.HTML object>"
      ]
     },
     "metadata": {},
     "output_type": "display_data"
    }
   ],
   "source": [
    "%%html\n",
    "    <div class='tableauPlaceholder' id='viz1614213176446' style='position: relative'><noscript><a href='#'><img alt=' ' src='https:&#47;&#47;public.tableau.com&#47;static&#47;images&#47;Co&#47;ConservativeBettingStrategyNFL2020&#47;cons&#47;1_rss.png' style='border: none' /></a></noscript><object class='tableauViz'  style='display:none;'><param name='host_url' value='https%3A%2F%2Fpublic.tableau.com%2F' /> <param name='embed_code_version' value='3' /> <param name='site_root' value='' /><param name='name' value='ConservativeBettingStrategyNFL2020&#47;cons' /><param name='tabs' value='no' /><param name='toolbar' value='yes' /><param name='static_image' value='https:&#47;&#47;public.tableau.com&#47;static&#47;images&#47;Co&#47;ConservativeBettingStrategyNFL2020&#47;cons&#47;1.png' /> <param name='animate_transition' value='yes' /><param name='display_static_image' value='yes' /><param name='display_spinner' value='yes' /><param name='display_overlay' value='yes' /><param name='display_count' value='yes' /><param name='language' value='en' /><param name='filter' value='publish=yes' /></object></div>                <script type='text/javascript'>                    var divElement = document.getElementById('viz1614213176446');                    var vizElement = divElement.getElementsByTagName('object')[0];                    if ( divElement.offsetWidth > 800 ) { vizElement.style.minWidth='800px';vizElement.style.maxWidth='1000px';vizElement.style.width='100%';vizElement.style.minHeight='587px';vizElement.style.maxHeight='727px';vizElement.style.height=(divElement.offsetWidth*0.75)+'px';} else if ( divElement.offsetWidth > 500 ) { vizElement.style.minWidth='800px';vizElement.style.maxWidth='1000px';vizElement.style.width='100%';vizElement.style.minHeight='587px';vizElement.style.maxHeight='727px';vizElement.style.height=(divElement.offsetWidth*0.75)+'px';} else { vizElement.style.width='100%';vizElement.style.height='727px';}                     var scriptElement = document.createElement('script');                    scriptElement.src = 'https://public.tableau.com/javascripts/api/viz_v1.js';                    vizElement.parentNode.insertBefore(scriptElement, vizElement);                </script>"
   ]
  },
  {
   "cell_type": "markdown",
   "id": "alternative-kentucky",
   "metadata": {},
   "source": [
    "## My First Thoughts:\n",
    "\n",
    "    1) The Control Case is \"All Bets\" (taking both sides of every game all season). \n",
    "\n",
    "    2) Betting the favorite outperformed the control- Betting the Dog did not.\n",
    "\n",
    "    3) Strategy #4 (EV > 0) doesn't break even on the season. It outperforms the control \"All Bets\" strategy, but loses\n",
    "    money on the year. This is important because it is the first strategy that one would be likely to try, and the strategy\n",
    "    that should perform best under ideal conditions (IE you take any action that is, on paper, profitable)\n",
    "\n",
    "    4) Strategy #6 (EV > %5) is the only profitable strategy that you might be able to reasonably guess in advance. \n",
    "\n",
    "    5) Strategy #8 (Preferred Strategy -10% < EV < %50, qbelo_prob > elo_prob) is our most successful model, but almost\n",
    "    certainly suffers from overfitting\n",
    "\n",
    "    6) Strategy #9 (Backup Strategy - All bets betwen 5% and 30% Expected Value) is also profitable, but does less volume\n",
    "    on the season than our preferred strategy. Backup strategy is simpler. "
   ]
  },
  {
   "cell_type": "markdown",
   "id": "miniature-processor",
   "metadata": {},
   "source": [
    "# What Happens when we change bet size?\n",
    "\n",
    "#### All previous simulations were Conservative (Bet-Size = 1% of Bankroll)\n",
    "\n",
    "Conservative: bet-size = 1% of Bankroll\n",
    "    \n",
    "Aggressive: bet-size = 2% of Bankroll\n",
    "    \n",
    "Super Aggressive: bet-size = 5% of Bankroll"
   ]
  },
  {
   "cell_type": "markdown",
   "id": "extreme-safety",
   "metadata": {},
   "source": [
    "## Let's Try this out on Betting Strategy #4: All bets where EV > 0\n",
    "\n",
    "Again, this is the most important betting strategy, and the implicit optimal strategy when conditions are ideal\n",
    "\n",
    "We want to take ANY and all (theoretically) profitable action"
   ]
  },
  {
   "cell_type": "code",
   "execution_count": 3,
   "id": "separated-grove",
   "metadata": {},
   "outputs": [
    {
     "data": {
      "text/html": [
       "    <div class='tableauPlaceholder' id='viz1614217262836' style='position: relative'><noscript><a href='#'><img alt=' ' src='https:&#47;&#47;public.tableau.com&#47;static&#47;images&#47;Be&#47;BettingStrategy4&#47;EVPlus&#47;1_rss.png' style='border: none' /></a></noscript><object class='tableauViz'  style='display:none;'><param name='host_url' value='https%3A%2F%2Fpublic.tableau.com%2F' /> <param name='embed_code_version' value='3' /> <param name='site_root' value='' /><param name='name' value='BettingStrategy4&#47;EVPlus' /><param name='tabs' value='no' /><param name='toolbar' value='yes' /><param name='static_image' value='https:&#47;&#47;public.tableau.com&#47;static&#47;images&#47;Be&#47;BettingStrategy4&#47;EVPlus&#47;1.png' /> <param name='animate_transition' value='yes' /><param name='display_static_image' value='yes' /><param name='display_spinner' value='yes' /><param name='display_overlay' value='yes' /><param name='display_count' value='yes' /><param name='language' value='en' /><param name='filter' value='publish=yes' /></object></div>                <script type='text/javascript'>                    var divElement = document.getElementById('viz1614217262836');                    var vizElement = divElement.getElementsByTagName('object')[0];                    vizElement.style.width='100%';vizElement.style.height=(divElement.offsetWidth*0.75)+'px';                    var scriptElement = document.createElement('script');                    scriptElement.src = 'https://public.tableau.com/javascripts/api/viz_v1.js';                    vizElement.parentNode.insertBefore(scriptElement, vizElement);                </script>\n"
      ],
      "text/plain": [
       "<IPython.core.display.HTML object>"
      ]
     },
     "metadata": {},
     "output_type": "display_data"
    }
   ],
   "source": [
    "%%html\n",
    "    <div class='tableauPlaceholder' id='viz1614217262836' style='position: relative'><noscript><a href='#'><img alt=' ' src='https:&#47;&#47;public.tableau.com&#47;static&#47;images&#47;Be&#47;BettingStrategy4&#47;EVPlus&#47;1_rss.png' style='border: none' /></a></noscript><object class='tableauViz'  style='display:none;'><param name='host_url' value='https%3A%2F%2Fpublic.tableau.com%2F' /> <param name='embed_code_version' value='3' /> <param name='site_root' value='' /><param name='name' value='BettingStrategy4&#47;EVPlus' /><param name='tabs' value='no' /><param name='toolbar' value='yes' /><param name='static_image' value='https:&#47;&#47;public.tableau.com&#47;static&#47;images&#47;Be&#47;BettingStrategy4&#47;EVPlus&#47;1.png' /> <param name='animate_transition' value='yes' /><param name='display_static_image' value='yes' /><param name='display_spinner' value='yes' /><param name='display_overlay' value='yes' /><param name='display_count' value='yes' /><param name='language' value='en' /><param name='filter' value='publish=yes' /></object></div>                <script type='text/javascript'>                    var divElement = document.getElementById('viz1614217262836');                    var vizElement = divElement.getElementsByTagName('object')[0];                    vizElement.style.width='100%';vizElement.style.height=(divElement.offsetWidth*0.75)+'px';                    var scriptElement = document.createElement('script');                    scriptElement.src = 'https://public.tableau.com/javascripts/api/viz_v1.js';                    vizElement.parentNode.insertBefore(scriptElement, vizElement);                </script>"
   ]
  },
  {
   "cell_type": "markdown",
   "id": "textile-binary",
   "metadata": {},
   "source": [
    "#### Strategy #4 doesn't turn a profit- but it outperforms our control (All Bets)\n",
    "\n",
    "Strategy #4 appears to have an edge against what you'd expect if you took random bets\n",
    "\n",
    "We're not winning yet, but the 538 EV data has positive predictive power. "
   ]
  },
  {
   "cell_type": "markdown",
   "id": "spanish-empire",
   "metadata": {},
   "source": [
    "## How About Strategy #6: All Bets where EV > 5%\n",
    "\n",
    "This is the only profitable betting strategy that relies on a single EV threshold"
   ]
  },
  {
   "cell_type": "code",
   "execution_count": 4,
   "id": "consistent-benchmark",
   "metadata": {},
   "outputs": [
    {
     "data": {
      "text/html": [
       "    <div class='tableauPlaceholder' id='viz1614217961050' style='position: relative'><noscript><a href='#'><img alt=' ' src='https:&#47;&#47;public.tableau.com&#47;static&#47;images&#47;Be&#47;BettingStrategy6&#47;EV5Plus&#47;1_rss.png' style='border: none' /></a></noscript><object class='tableauViz'  style='display:none;'><param name='host_url' value='https%3A%2F%2Fpublic.tableau.com%2F' /> <param name='embed_code_version' value='3' /> <param name='site_root' value='' /><param name='name' value='BettingStrategy6&#47;EV5Plus' /><param name='tabs' value='no' /><param name='toolbar' value='yes' /><param name='static_image' value='https:&#47;&#47;public.tableau.com&#47;static&#47;images&#47;Be&#47;BettingStrategy6&#47;EV5Plus&#47;1.png' /> <param name='animate_transition' value='yes' /><param name='display_static_image' value='yes' /><param name='display_spinner' value='yes' /><param name='display_overlay' value='yes' /><param name='display_count' value='yes' /><param name='language' value='en' /><param name='filter' value='publish=yes' /></object></div>                <script type='text/javascript'>                    var divElement = document.getElementById('viz1614217961050');                    var vizElement = divElement.getElementsByTagName('object')[0];                    vizElement.style.width='100%';vizElement.style.height=(divElement.offsetWidth*0.75)+'px';                    var scriptElement = document.createElement('script');                    scriptElement.src = 'https://public.tableau.com/javascripts/api/viz_v1.js';                    vizElement.parentNode.insertBefore(scriptElement, vizElement);                </script>\n"
      ],
      "text/plain": [
       "<IPython.core.display.HTML object>"
      ]
     },
     "metadata": {},
     "output_type": "display_data"
    }
   ],
   "source": [
    "%%html\n",
    "    <div class='tableauPlaceholder' id='viz1614217961050' style='position: relative'><noscript><a href='#'><img alt=' ' src='https:&#47;&#47;public.tableau.com&#47;static&#47;images&#47;Be&#47;BettingStrategy6&#47;EV5Plus&#47;1_rss.png' style='border: none' /></a></noscript><object class='tableauViz'  style='display:none;'><param name='host_url' value='https%3A%2F%2Fpublic.tableau.com%2F' /> <param name='embed_code_version' value='3' /> <param name='site_root' value='' /><param name='name' value='BettingStrategy6&#47;EV5Plus' /><param name='tabs' value='no' /><param name='toolbar' value='yes' /><param name='static_image' value='https:&#47;&#47;public.tableau.com&#47;static&#47;images&#47;Be&#47;BettingStrategy6&#47;EV5Plus&#47;1.png' /> <param name='animate_transition' value='yes' /><param name='display_static_image' value='yes' /><param name='display_spinner' value='yes' /><param name='display_overlay' value='yes' /><param name='display_count' value='yes' /><param name='language' value='en' /><param name='filter' value='publish=yes' /></object></div>                <script type='text/javascript'>                    var divElement = document.getElementById('viz1614217961050');                    var vizElement = divElement.getElementsByTagName('object')[0];                    vizElement.style.width='100%';vizElement.style.height=(divElement.offsetWidth*0.75)+'px';                    var scriptElement = document.createElement('script');                    scriptElement.src = 'https://public.tableau.com/javascripts/api/viz_v1.js';                    vizElement.parentNode.insertBefore(scriptElement, vizElement);                </script>"
   ]
  },
  {
   "cell_type": "markdown",
   "id": "suburban-latter",
   "metadata": {},
   "source": [
    "#### And it's not even always profitable\n",
    "Our \"Super Aggressive\" bet-sizing cut the bankroll so much mid-season that it finished the season under the original $100"
   ]
  },
  {
   "cell_type": "markdown",
   "id": "announced-cleaning",
   "metadata": {},
   "source": [
    "## Strategies #8/9: Preferred and Backup Plans\n",
    "\n",
    "#### These are actual winning strategies for the 2020 season\n",
    "\n",
    "They are likely overfit- meaning if you follow the same strategies in 2021- I wouldn't expect them to work again. My guess is that they are due to variance"
   ]
  },
  {
   "cell_type": "markdown",
   "id": "expired-schema",
   "metadata": {},
   "source": [
    "Strategy #8 (Green): -10% < EV < 50%, qbelo_prob > elo_prob\n",
    "\n",
    "Strategy #9 (Blue): 5% < EV < 30%"
   ]
  },
  {
   "cell_type": "code",
   "execution_count": 5,
   "id": "biological-fraud",
   "metadata": {},
   "outputs": [
    {
     "data": {
      "text/html": [
       "    <div class='tableauPlaceholder' id='viz1614218667797' style='position: relative'><noscript><a href='#'><img alt=' ' src='https:&#47;&#47;public.tableau.com&#47;static&#47;images&#47;Be&#47;BettingStrategy89&#47;Strategies&#47;1_rss.png' style='border: none' /></a></noscript><object class='tableauViz'  style='display:none;'><param name='host_url' value='https%3A%2F%2Fpublic.tableau.com%2F' /> <param name='embed_code_version' value='3' /> <param name='site_root' value='' /><param name='name' value='BettingStrategy89&#47;Strategies' /><param name='tabs' value='no' /><param name='toolbar' value='yes' /><param name='static_image' value='https:&#47;&#47;public.tableau.com&#47;static&#47;images&#47;Be&#47;BettingStrategy89&#47;Strategies&#47;1.png' /> <param name='animate_transition' value='yes' /><param name='display_static_image' value='yes' /><param name='display_spinner' value='yes' /><param name='display_overlay' value='yes' /><param name='display_count' value='yes' /><param name='language' value='en' /><param name='filter' value='publish=yes' /></object></div>                <script type='text/javascript'>                    var divElement = document.getElementById('viz1614218667797');                    var vizElement = divElement.getElementsByTagName('object')[0];                    vizElement.style.width='100%';vizElement.style.height=(divElement.offsetWidth*0.75)+'px';                    var scriptElement = document.createElement('script');                    scriptElement.src = 'https://public.tableau.com/javascripts/api/viz_v1.js';                    vizElement.parentNode.insertBefore(scriptElement, vizElement);                </script>\n"
      ],
      "text/plain": [
       "<IPython.core.display.HTML object>"
      ]
     },
     "metadata": {},
     "output_type": "display_data"
    }
   ],
   "source": [
    "%%html\n",
    "    <div class='tableauPlaceholder' id='viz1614218667797' style='position: relative'><noscript><a href='#'><img alt=' ' src='https:&#47;&#47;public.tableau.com&#47;static&#47;images&#47;Be&#47;BettingStrategy89&#47;Strategies&#47;1_rss.png' style='border: none' /></a></noscript><object class='tableauViz'  style='display:none;'><param name='host_url' value='https%3A%2F%2Fpublic.tableau.com%2F' /> <param name='embed_code_version' value='3' /> <param name='site_root' value='' /><param name='name' value='BettingStrategy89&#47;Strategies' /><param name='tabs' value='no' /><param name='toolbar' value='yes' /><param name='static_image' value='https:&#47;&#47;public.tableau.com&#47;static&#47;images&#47;Be&#47;BettingStrategy89&#47;Strategies&#47;1.png' /> <param name='animate_transition' value='yes' /><param name='display_static_image' value='yes' /><param name='display_spinner' value='yes' /><param name='display_overlay' value='yes' /><param name='display_count' value='yes' /><param name='language' value='en' /><param name='filter' value='publish=yes' /></object></div>                <script type='text/javascript'>                    var divElement = document.getElementById('viz1614218667797');                    var vizElement = divElement.getElementsByTagName('object')[0];                    vizElement.style.width='100%';vizElement.style.height=(divElement.offsetWidth*0.75)+'px';                    var scriptElement = document.createElement('script');                    scriptElement.src = 'https://public.tableau.com/javascripts/api/viz_v1.js';                    vizElement.parentNode.insertBefore(scriptElement, vizElement);                </script>"
   ]
  },
  {
   "cell_type": "markdown",
   "id": "aware-slovak",
   "metadata": {},
   "source": [
    "#### Our two preferred strategies have a pretty strong edge against the house on the NFL Season\n",
    "\n",
    "I'm basically certain that these strategies won't hold up against next football season. The variance in the data is so high that I'm imagining there are a lot of apparent trends which can be attributed to randomness\n",
    "\n",
    "That being said, it stands to reason that if you bet 5% of your bankroll on every bet in strategy #8, you would make a 300% return in a 6 month football season\n",
    "\n",
    "If you were to do this, you would have made great profits, however we only know to do this with the benefit of hindsight"
   ]
  },
  {
   "cell_type": "markdown",
   "id": "hawaiian-function",
   "metadata": {},
   "source": [
    "# Conclusions"
   ]
  },
  {
   "cell_type": "markdown",
   "id": "continued-coffee",
   "metadata": {},
   "source": [
    "#### 1) 538's QB ELO Probabilities appear to have some predictive power in finding more profitable sports odds\n",
    "#### 2) Betting the \"Out of the Box\" strategy (538 Expects Value) loses money on the season\n",
    "#### 3) Most of the simplest betting strategies aren't profitable, but they reduce the sportsbook's average edge\n",
    "#### 4) Variance is too high to determine what trends matter- More NFL Seasons will be required to find reliable trends\n",
    "#### 5) Machine learning may not be required if strong trends hold as variance reduces with bet volume"
   ]
  }
 ],
 "metadata": {
  "kernelspec": {
   "display_name": "Python 3",
   "language": "python",
   "name": "python3"
  },
  "language_info": {
   "codemirror_mode": {
    "name": "ipython",
    "version": 3
   },
   "file_extension": ".py",
   "mimetype": "text/x-python",
   "name": "python",
   "nbconvert_exporter": "python",
   "pygments_lexer": "ipython3",
   "version": "3.9.1"
  }
 },
 "nbformat": 4,
 "nbformat_minor": 5
}
